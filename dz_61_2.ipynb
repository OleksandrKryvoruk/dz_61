{
 "cells": [
  {
   "cell_type": "markdown",
   "id": "ad1d4dcd",
   "metadata": {},
   "source": [
    "## 2. Використовуючи бібліотеку gzip, напишіть код для стиснення текстового файлу."
   ]
  },
  {
   "cell_type": "code",
   "execution_count": 25,
   "id": "9da196cc",
   "metadata": {},
   "outputs": [],
   "source": [
    "import gzip\n",
    "import io\n",
    "import os"
   ]
  },
  {
   "cell_type": "code",
   "execution_count": 26,
   "id": "770f6df3",
   "metadata": {},
   "outputs": [],
   "source": [
    "def compress(source_file, compressed_filename):  \n",
    "    with open(source_file, 'r', encoding='utf8') as file:\n",
    "        text = file.read()\n",
    "\n",
    "    with gzip.open(compressed_filename, 'wb') as f:\n",
    "            with io.TextIOWrapper(f, encoding='utf-8') as encode:\n",
    "                encode.write(text)\n",
    "    print(compressed_filename, 'was created.')"
   ]
  },
  {
   "cell_type": "code",
   "execution_count": 27,
   "id": "2adf8c03",
   "metadata": {},
   "outputs": [],
   "source": [
    "def read_compressed_file(compressed_file):\n",
    "    with gzip.open(compressed_file, 'rb') as f:\n",
    "        with io.TextIOWrapper(f, encoding='utf-8') as decoder:\n",
    "            content = decoder.read()\n",
    "    return content        "
   ]
  },
  {
   "cell_type": "code",
   "execution_count": 28,
   "id": "eed6e13e",
   "metadata": {},
   "outputs": [
    {
     "name": "stdout",
     "output_type": "stream",
     "text": [
      "Source file content:\n",
      "\n",
      " PNG (Portable Network Graphics) – це формат зображень, що використовується для зберігання цифрових зображень з високою якістю та стисненням без втрати якості. PNG формат, розроблений як заміна формату, є популярним форматом для зображень з прозорим фоном, таких як логотипи та іконки. Зображення в PNG форматі можуть мати 24-бітну або 32-бітну кольорову глибину, що дозволяє зберігати зображення з високою якістю та точністю кольору.\n",
      "Однак, PNG формат має деякі недоліки : зображення можуть мати більший розмір файлу порівняно з іншими форматами, такими як JPEG, що може бути проблемою при зберіганні великих зображень. Також, PNG формат не підтримує анімацію, яка є можливою в форматі GIF.\n",
      "\n"
     ]
    }
   ],
   "source": [
    "c_filename = 'compressed.gz'\n",
    "filename = 'some_text.txt'\n",
    "\n",
    "with open(filename, 'r', encoding='utf8') as file:\n",
    "    text = file.read()\n",
    "\n",
    "print('Source file content:\\n\\n', text)"
   ]
  },
  {
   "cell_type": "code",
   "execution_count": 29,
   "id": "61f11829",
   "metadata": {},
   "outputs": [
    {
     "name": "stdout",
     "output_type": "stream",
     "text": [
      "compressed.gz was created.\n"
     ]
    }
   ],
   "source": [
    "compress(filename, c_filename)"
   ]
  },
  {
   "cell_type": "code",
   "execution_count": 30,
   "id": "5e6b2bd7",
   "metadata": {},
   "outputs": [
    {
     "name": "stdout",
     "output_type": "stream",
     "text": [
      "Compressed file content:\n",
      "\n",
      " PNG (Portable Network Graphics) – це формат зображень, що використовується для зберігання цифрових зображень з високою якістю та стисненням без втрати якості. PNG формат, розроблений як заміна формату, є популярним форматом для зображень з прозорим фоном, таких як логотипи та іконки. Зображення в PNG форматі можуть мати 24-бітну або 32-бітну кольорову глибину, що дозволяє зберігати зображення з високою якістю та точністю кольору.\n",
      "Однак, PNG формат має деякі недоліки : зображення можуть мати більший розмір файлу порівняно з іншими форматами, такими як JPEG, що може бути проблемою при зберіганні великих зображень. Також, PNG формат не підтримує анімацію, яка є можливою в форматі GIF.\n",
      "\n"
     ]
    }
   ],
   "source": [
    "restored_text = read_compressed_file(c_filename)\n",
    "print('Compressed file content:\\n\\n',restored_text)"
   ]
  },
  {
   "cell_type": "code",
   "execution_count": 32,
   "id": "2444f511",
   "metadata": {},
   "outputs": [
    {
     "name": "stdout",
     "output_type": "stream",
     "text": [
      "Source file size: 1214 bytes\n",
      "Compressed file size: 581 bytes\n"
     ]
    }
   ],
   "source": [
    "print(f'Source file size: {os.path.getsize(filename)} bytes')\n",
    "print(f'Compressed file size: {os.path.getsize(c_filename)} bytes')"
   ]
  }
 ],
 "metadata": {
  "kernelspec": {
   "display_name": "Python 3 (ipykernel)",
   "language": "python",
   "name": "python3"
  },
  "language_info": {
   "codemirror_mode": {
    "name": "ipython",
    "version": 3
   },
   "file_extension": ".py",
   "mimetype": "text/x-python",
   "name": "python",
   "nbconvert_exporter": "python",
   "pygments_lexer": "ipython3",
   "version": "3.9.13"
  }
 },
 "nbformat": 4,
 "nbformat_minor": 5
}
